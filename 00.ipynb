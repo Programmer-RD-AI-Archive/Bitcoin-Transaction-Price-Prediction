{
 "cells": [
  {
   "cell_type": "code",
   "execution_count": 1,
   "id": "67225bb7-f1c3-4bb2-90ec-d63a6ab15daf",
   "metadata": {},
   "outputs": [],
   "source": [
    "import random\n",
    "import seaborn as sns\n",
    "import pandas as pd\n",
    "import numpy as np\n",
    "import matplotlib.pyplot as plt\n",
    "import sklearn\n",
    "from sklearn.preprocessing import (\n",
    "    StandardScaler,\n",
    "    RobustScaler,\n",
    "    MinMaxScaler,\n",
    "    MaxAbsScaler,\n",
    "    OneHotEncoder,\n",
    "    LabelEncoder,\n",
    "    Normalizer,\n",
    ")\n",
    "from sklearn.model_selection import cross_val_score,train_test_split\n",
    "from sklearn.neighbors import KNeighborsRegressor\n",
    "from sklearn.linear_model import LogisticRegression,LogisticRegressionCV\n",
    "from sklearn.naive_bayes import GaussianNB\n",
    "from sklearn.tree import DecisionTreeRegressor\n",
    "from sklearn.ensemble import GradientBoostingRegressor,AdaBoostRegressor,VotingRegressor,BaggingRegressor,RandomForestRegressor\n",
    "from sklearn.svm import SVR\n",
    "from sklearn.ensemble import BaggingRegressor\n",
    "from sklearn.ensemble import ExtraTreesRegressor\n",
    "from sklearn.metrics import mean_absolute_error,mean_squared_error,accuracy_score,precision_score,f1_score,recall_score\n",
    "import pickle\n",
    "import wandb\n",
    "np.random.seed(42)"
   ]
  },
  {
   "cell_type": "code",
   "execution_count": 2,
   "id": "dd75ef31-0b8f-4c4b-a858-bd550f6b0090",
   "metadata": {},
   "outputs": [],
   "source": [
    "data = pd.read_csv('./data.csv')"
   ]
  },
  {
   "cell_type": "code",
   "execution_count": 3,
   "id": "d07ed519-2678-4b87-9496-8692f5f34223",
   "metadata": {},
   "outputs": [],
   "source": [
    "X = data['Date']\n",
    "y  = data['btc_cost_per_transaction']"
   ]
  },
  {
   "cell_type": "code",
   "execution_count": 4,
   "id": "b079e7be-cd65-4036-8e6a-03ba5e0c7935",
   "metadata": {},
   "outputs": [],
   "source": [
    "new_X = []"
   ]
  },
  {
   "cell_type": "code",
   "execution_count": 5,
   "id": "d95e93cd-b1e9-4229-a24c-d15f760fe788",
   "metadata": {},
   "outputs": [],
   "source": [
    "for x in X.tolist():\n",
    "    try:\n",
    "        x = x.split('-')\n",
    "        x = int(f'{x[0]}{x[1]}{x[2]}')\n",
    "        new_X.append(x)\n",
    "    except:\n",
    "        x = x[0].split('/')\n",
    "        x = int(f'{x[0]}{x[1]}{x[2]}')\n",
    "        new_X.append(x)"
   ]
  },
  {
   "cell_type": "code",
   "execution_count": 6,
   "id": "cb1fe923-a59e-44a0-9f3c-f3ef3cefafd6",
   "metadata": {},
   "outputs": [],
   "source": [
    "X = np.array(new_X)"
   ]
  },
  {
   "cell_type": "code",
   "execution_count": 7,
   "id": "ce5aa4ac-6636-42bd-9dbc-a991bca3e5bc",
   "metadata": {},
   "outputs": [],
   "source": [
    "y = np.array(y.tolist())"
   ]
  },
  {
   "cell_type": "code",
   "execution_count": 8,
   "id": "082aad09-5430-4410-b3ba-cfa589195d95",
   "metadata": {},
   "outputs": [],
   "source": [
    "from flaml import AutoML"
   ]
  },
  {
   "cell_type": "code",
   "execution_count": 9,
   "id": "79541d55-571b-4e8a-9c41-574ac5187f88",
   "metadata": {},
   "outputs": [],
   "source": [
    "def valid(model,X,y,val=False):\n",
    "    y_test = y\n",
    "    y_preds = model.predict(X)\n",
    "    try:\n",
    "            results = {\n",
    "                'Accuracy':model.score(X,y),\n",
    "                'MAE':mean_absolute_error(y_test,y_preds),\n",
    "                'MSE':mean_squared_error(y_test,y_preds),\n",
    "            }\n",
    "    except:\n",
    "            results = {\n",
    "                'MAE':mean_absolute_error(y_test,y_preds),\n",
    "                'MSE':mean_squared_error(y_test,y_preds),\n",
    "            }\n",
    "    return results\n",
    "def fit(model,X_train,X_test,y_train,y_test,name):\n",
    "    wandb.init(project=PROJECT_NAME,name=name)\n",
    "    model = model\n",
    "    try:\n",
    "        model.fit(X_train,y_train,task='classification')\n",
    "    except:\n",
    "        model.fit(X_train,y_train)\n",
    "    print('Logging')\n",
    "    wandb.log(valid(model,X_train,y_train))\n",
    "    wandb.log(valid(model,X_test,y_test,True))\n",
    "    print('Saving')\n",
    "    pickle.dump(model,open(f'./models/model-{name}.pkl','wb'))\n",
    "    print('Making Submissions')\n",
    "    make_submission(model)\n",
    "    return model"
   ]
  },
  {
   "cell_type": "code",
   "execution_count": 11,
   "id": "d01947b6-beb0-49e2-9edc-f090ac56123b",
   "metadata": {},
   "outputs": [],
   "source": [
    "pres = [StandardScaler(),RobustScaler(),MinMaxScaler(),MaxAbsScaler(),Normalizer(),LabelEncoder()]"
   ]
  },
  {
   "cell_type": "code",
   "execution_count": null,
   "id": "5b9ab309-08d8-453c-89f3-8c208f112b06",
   "metadata": {},
   "outputs": [],
   "source": [
    "\n",
    "models = [\n",
    "    ['KNeighborsRegressor',KNeighborsRegressor],\n",
    "    ['DecisionTreeRegressor',DecisionTreeRegressor],\n",
    "    ['GradientBoostingRegressor',GradientBoostingRegressor],\n",
    "    ['AdaBoostRegressor',AdaBoostRegressor],\n",
    "    ['RandomForestRegressor',RandomForestRegressor],\n",
    "    ['BaggingRegressor',BaggingRegressor],\n",
    "    ['SVR',SVR],\n",
    "    ['XGBClassifier',XGBClassifier],\n",
    "    ['XGBRFClassifier',XGBRFClassifier],\n",
    "    ['CatBoostClassifier',CatBoostClassifier],\n",
    "    ['CatBoost',CatBoost],\n",
    "    ['FloatML',AutoML()]\n",
    "]"
   ]
  }
 ],
 "metadata": {
  "kernelspec": {
   "display_name": "Python 3.7.3 64-bit ('base': conda)",
   "language": "python",
   "name": "python373jvsc74a57bd0210f9608a45c0278a93c9e0b10db32a427986ab48cfc0d20c139811eb78c4bbc"
  },
  "language_info": {
   "codemirror_mode": {
    "name": "ipython",
    "version": 3
   },
   "file_extension": ".py",
   "mimetype": "text/x-python",
   "name": "python",
   "nbconvert_exporter": "python",
   "pygments_lexer": "ipython3",
   "version": "3.7.7"
  }
 },
 "nbformat": 4,
 "nbformat_minor": 5
}
